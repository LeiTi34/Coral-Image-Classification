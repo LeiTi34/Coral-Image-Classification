{
 "cells": [
  {
   "cell_type": "markdown",
   "id": "d898b94f",
   "metadata": {},
   "source": [
    "# Healthy and Bleached Corals Image Classification"
   ]
  },
  {
   "cell_type": "markdown",
   "id": "459555bd",
   "metadata": {},
   "source": [
    "## Imports"
   ]
  },
  {
   "cell_type": "code",
   "execution_count": 11,
   "id": "c9a029b8",
   "metadata": {},
   "outputs": [
    {
     "name": "stdout",
     "output_type": "stream",
     "text": [
      "Requirement already satisfied: numpy in ./.venv/lib/python3.12/site-packages (2.1.2)\n",
      "Collecting pillow\n",
      "  Using cached pillow-11.0.0-cp312-cp312-manylinux_2_28_x86_64.whl.metadata (9.1 kB)\n",
      "Using cached pillow-11.0.0-cp312-cp312-manylinux_2_28_x86_64.whl (4.4 MB)\n",
      "Installing collected packages: pillow\n",
      "Successfully installed pillow-11.0.0\n"
     ]
    }
   ],
   "source": [
    "!pip install numpy pillow"
   ]
  },
  {
   "cell_type": "code",
   "execution_count": 12,
   "id": "dac568bd",
   "metadata": {},
   "outputs": [],
   "source": [
    "import os\n",
    "import numpy as np\n",
    "from PIL import Image"
   ]
  },
  {
   "cell_type": "markdown",
   "id": "c983fdb3",
   "metadata": {},
   "source": [
    "## Dataset Overview"
   ]
  },
  {
   "cell_type": "code",
   "execution_count": 17,
   "id": "be02f857",
   "metadata": {},
   "outputs": [
    {
     "name": "stdout",
     "output_type": "stream",
     "text": [
      "Bleached Corals - Total Images: 484\n",
      "Healthy Corals - Total Images: 438\n",
      "Bleached Corals - Average Width: 301.3347107438017, Average Height: 224.98760330578511\n",
      "Bleached Corals - Minimum Width: 199, Maximum Width: 1024\n",
      "Bleached Corals - Minimum Height: 134, Maximum Height: 1024\n",
      "Healthy Corals - Average Width: 288.51826484018267, Average Height: 237.96118721461187\n",
      "Healthy Corals - Minimum Width: 150, Maximum Width: 1024\n",
      "Healthy Corals - Minimum Height: 169, Maximum Height: 768\n"
     ]
    }
   ],
   "source": [
    "bleached_path = \"./data/bleached_corals\"\n",
    "healthy_path = \"./data/healthy_corals\"\n",
    "\n",
    "# Read all jpg files from the paths and give a overview of the data (count, size etc.)\n",
    "\n",
    "def get_image_paths(folder_path):\n",
    "    return [os.path.join(folder_path, f) for f in os.listdir(folder_path) if f.endswith('.jpg')]\n",
    "\n",
    "# Get all image paths\n",
    "bleached_images = get_image_paths(bleached_path)\n",
    "print(f\"Bleached Corals - Total Images: {len(bleached_images)}\")\n",
    "healthy_images = get_image_paths(healthy_path)\n",
    "print(f\"Healthy Corals - Total Images: {len(healthy_images)}\")\n",
    "\n",
    "# Function to load images and compute basic statistics\n",
    "def analyze_images(image_paths):\n",
    "    dimensions = []\n",
    "    for img_path in image_paths:\n",
    "        with Image.open(img_path) as img:\n",
    "            dimensions.append(img.size)  # (width, height)\n",
    "    \n",
    "    # Convert to numpy array for easier analysis\n",
    "    dimensions = np.array(dimensions)\n",
    "    \n",
    "    # Calculate average width and height\n",
    "    avg_width = np.mean(dimensions[:, 0])\n",
    "    avg_height = np.mean(dimensions[:, 1])\n",
    "\n",
    "    # Calculate the minimum and maximum width and height\n",
    "    min_width = np.min(dimensions[:, 0])\n",
    "    max_width = np.max(dimensions[:, 0])\n",
    "    min_height = np.min(dimensions[:, 1])\n",
    "    max_height = np.max(dimensions[:, 1])\n",
    "    \n",
    "    return avg_width, min_width, max_width, avg_height, min_height, max_height, dimensions\n",
    "\n",
    "# Analyze bleached coral images\n",
    "bleached_avg_width, bleached_min_width, bleached_max_width, bleached_avg_height, bleached_min_height, bleached_max_height, bleached_dimensions = analyze_images(bleached_images)\n",
    "print(f\"Bleached Corals - Average Width: {bleached_avg_width}, Average Height: {bleached_avg_height}\")\n",
    "print(f\"Bleached Corals - Minimum Width: {bleached_min_width}, Maximum Width: {bleached_max_width}\")\n",
    "print(f\"Bleached Corals - Minimum Height: {bleached_min_height}, Maximum Height: {bleached_max_height}\")\n",
    "\n",
    "# Analyze healthy coral images\n",
    "healthy_avg_width, healthy_min_width, healthy_max_width, healthy_avg_height, healthy_min_height, healthy_max_height, healthy_dimensions = analyze_images(healthy_images)\n",
    "print(f\"Healthy Corals - Average Width: {healthy_avg_width}, Average Height: {healthy_avg_height}\")\n",
    "print(f\"Healthy Corals - Minimum Width: {healthy_min_width}, Maximum Width: {healthy_max_width}\")\n",
    "print(f\"Healthy Corals - Minimum Height: {healthy_min_height}, Maximum Height: {healthy_max_height}\")"
   ]
  }
 ],
 "metadata": {
  "kernelspec": {
   "display_name": ".venv",
   "language": "python",
   "name": "python3"
  },
  "language_info": {
   "codemirror_mode": {
    "name": "ipython",
    "version": 3
   },
   "file_extension": ".py",
   "mimetype": "text/x-python",
   "name": "python",
   "nbconvert_exporter": "python",
   "pygments_lexer": "ipython3",
   "version": "3.12.7"
  }
 },
 "nbformat": 4,
 "nbformat_minor": 5
}
