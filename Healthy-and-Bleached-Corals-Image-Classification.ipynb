{
 "cells": [
  {
   "cell_type": "markdown",
   "id": "d898b94f",
   "metadata": {},
   "source": [
    "# Healthy and Bleached Corals Image Classification"
   ]
  },
  {
   "cell_type": "markdown",
   "id": "459555bd",
   "metadata": {},
   "source": [
    "## Imports"
   ]
  },
  {
   "cell_type": "code",
   "id": "c9a029b8",
   "metadata": {
    "ExecuteTime": {
     "end_time": "2024-10-29T14:07:03.231515Z",
     "start_time": "2024-10-29T14:06:55.249116Z"
    }
   },
   "source": [
    "!pip install numpy pillow"
   ],
   "outputs": [
    {
     "name": "stdout",
     "output_type": "stream",
     "text": [
      "Collecting numpy\n",
      "  Downloading numpy-2.1.2-cp312-cp312-win_amd64.whl.metadata (59 kB)\n",
      "Collecting pillow\n",
      "  Downloading pillow-11.0.0-cp312-cp312-win_amd64.whl.metadata (9.3 kB)\n",
      "Downloading numpy-2.1.2-cp312-cp312-win_amd64.whl (12.6 MB)\n",
      "   ---------------------------------------- 0.0/12.6 MB ? eta -:--:--\n",
      "   ---- ----------------------------------- 1.3/12.6 MB 9.5 MB/s eta 0:00:02\n",
      "   ------- -------------------------------- 2.4/12.6 MB 5.8 MB/s eta 0:00:02\n",
      "   -------------- ------------------------- 4.5/12.6 MB 7.1 MB/s eta 0:00:02\n",
      "   ------------------ --------------------- 5.8/12.6 MB 6.9 MB/s eta 0:00:01\n",
      "   --------------------- ------------------ 6.8/12.6 MB 7.0 MB/s eta 0:00:01\n",
      "   -------------------------- ------------- 8.4/12.6 MB 6.7 MB/s eta 0:00:01\n",
      "   ------------------------------ --------- 9.4/12.6 MB 6.4 MB/s eta 0:00:01\n",
      "   ---------------------------------- ----- 10.7/12.6 MB 6.3 MB/s eta 0:00:01\n",
      "   ------------------------------------ --- 11.5/12.6 MB 6.2 MB/s eta 0:00:01\n",
      "   ---------------------------------------  12.3/12.6 MB 5.8 MB/s eta 0:00:01\n",
      "   ---------------------------------------- 12.6/12.6 MB 5.7 MB/s eta 0:00:00\n",
      "Downloading pillow-11.0.0-cp312-cp312-win_amd64.whl (2.6 MB)\n",
      "   ---------------------------------------- 0.0/2.6 MB ? eta -:--:--\n",
      "   ------------ --------------------------- 0.8/2.6 MB 4.2 MB/s eta 0:00:01\n",
      "   ------------------------ --------------- 1.6/2.6 MB 3.8 MB/s eta 0:00:01\n",
      "   -------------------------------- ------- 2.1/2.6 MB 3.4 MB/s eta 0:00:01\n",
      "   ---------------------------------------- 2.6/2.6 MB 3.1 MB/s eta 0:00:00\n",
      "Installing collected packages: pillow, numpy\n",
      "Successfully installed numpy-2.1.2 pillow-11.0.0\n"
     ]
    },
    {
     "name": "stderr",
     "output_type": "stream",
     "text": [
      "\n",
      "[notice] A new release of pip is available: 24.2 -> 24.3.1\n",
      "[notice] To update, run: C:\\Users\\krain\\AppData\\Local\\Programs\\Python\\Python312\\python.exe -m pip install --upgrade pip\n"
     ]
    }
   ],
   "execution_count": 2
  },
  {
   "cell_type": "code",
   "id": "dac568bd",
   "metadata": {
    "ExecuteTime": {
     "end_time": "2024-10-29T14:07:15.378387Z",
     "start_time": "2024-10-29T14:07:14.849351Z"
    }
   },
   "source": [
    "import os\n",
    "import numpy as np\n",
    "from PIL import Image"
   ],
   "outputs": [],
   "execution_count": 3
  },
  {
   "cell_type": "markdown",
   "id": "c983fdb3",
   "metadata": {},
   "source": [
    "## Dataset Overview"
   ]
  },
  {
   "cell_type": "code",
   "id": "be02f857",
   "metadata": {
    "ExecuteTime": {
     "end_time": "2024-10-29T14:07:18.214162Z",
     "start_time": "2024-10-29T14:07:17.993050Z"
    }
   },
   "source": [
    "bleached_path = \"./data/bleached_corals\"\n",
    "healthy_path = \"./data/healthy_corals\"\n",
    "\n",
    "# Read all jpg files from the paths and give a overview of the data (count, size etc.)\n",
    "\n",
    "def get_image_paths(folder_path):\n",
    "    return [os.path.join(folder_path, f) for f in os.listdir(folder_path) if f.endswith('.jpg')]\n",
    "\n",
    "# Get all image paths\n",
    "bleached_images = get_image_paths(bleached_path)\n",
    "print(f\"Bleached Corals - Total Images: {len(bleached_images)}\")\n",
    "healthy_images = get_image_paths(healthy_path)\n",
    "print(f\"Healthy Corals - Total Images: {len(healthy_images)}\")\n",
    "\n",
    "# Function to load images and compute basic statistics\n",
    "def analyze_images(image_paths):\n",
    "    dimensions = []\n",
    "    for img_path in image_paths:\n",
    "        with Image.open(img_path) as img:\n",
    "            dimensions.append(img.size)  # (width, height)\n",
    "    \n",
    "    # Convert to numpy array for easier analysis\n",
    "    dimensions = np.array(dimensions)\n",
    "    \n",
    "    # Calculate average width and height\n",
    "    avg_width = np.mean(dimensions[:, 0])\n",
    "    avg_height = np.mean(dimensions[:, 1])\n",
    "\n",
    "    # Calculate the minimum and maximum width and height\n",
    "    min_width = np.min(dimensions[:, 0])\n",
    "    max_width = np.max(dimensions[:, 0])\n",
    "    min_height = np.min(dimensions[:, 1])\n",
    "    max_height = np.max(dimensions[:, 1])\n",
    "    \n",
    "    return avg_width, min_width, max_width, avg_height, min_height, max_height, dimensions\n",
    "\n",
    "# Analyze bleached coral images\n",
    "bleached_avg_width, bleached_min_width, bleached_max_width, bleached_avg_height, bleached_min_height, bleached_max_height, bleached_dimensions = analyze_images(bleached_images)\n",
    "print(f\"Bleached Corals - Average Width: {bleached_avg_width}, Average Height: {bleached_avg_height}\")\n",
    "print(f\"Bleached Corals - Minimum Width: {bleached_min_width}, Maximum Width: {bleached_max_width}\")\n",
    "print(f\"Bleached Corals - Minimum Height: {bleached_min_height}, Maximum Height: {bleached_max_height}\")\n",
    "\n",
    "# Analyze healthy coral images\n",
    "healthy_avg_width, healthy_min_width, healthy_max_width, healthy_avg_height, healthy_min_height, healthy_max_height, healthy_dimensions = analyze_images(healthy_images)\n",
    "print(f\"Healthy Corals - Average Width: {healthy_avg_width}, Average Height: {healthy_avg_height}\")\n",
    "print(f\"Healthy Corals - Minimum Width: {healthy_min_width}, Maximum Width: {healthy_max_width}\")\n",
    "print(f\"Healthy Corals - Minimum Height: {healthy_min_height}, Maximum Height: {healthy_max_height}\")"
   ],
   "outputs": [
    {
     "name": "stdout",
     "output_type": "stream",
     "text": [
      "Bleached Corals - Total Images: 484\n",
      "Healthy Corals - Total Images: 438\n",
      "Bleached Corals - Average Width: 301.3347107438017, Average Height: 224.98760330578511\n",
      "Bleached Corals - Minimum Width: 199, Maximum Width: 1024\n",
      "Bleached Corals - Minimum Height: 134, Maximum Height: 1024\n",
      "Healthy Corals - Average Width: 288.51826484018267, Average Height: 237.96118721461187\n",
      "Healthy Corals - Minimum Width: 150, Maximum Width: 1024\n",
      "Healthy Corals - Minimum Height: 169, Maximum Height: 768\n"
     ]
    }
   ],
   "execution_count": 4
  }
 ],
 "metadata": {
  "kernelspec": {
   "display_name": ".venv",
   "language": "python",
   "name": "python3"
  },
  "language_info": {
   "codemirror_mode": {
    "name": "ipython",
    "version": 3
   },
   "file_extension": ".py",
   "mimetype": "text/x-python",
   "name": "python",
   "nbconvert_exporter": "python",
   "pygments_lexer": "ipython3",
   "version": "3.12.7"
  }
 },
 "nbformat": 4,
 "nbformat_minor": 5
}
