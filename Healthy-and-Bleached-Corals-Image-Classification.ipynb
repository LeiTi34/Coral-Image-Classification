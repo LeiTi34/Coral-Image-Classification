{
 "cells": [
  {
   "cell_type": "markdown",
   "id": "d898b94f",
   "metadata": {},
   "source": [
    "# Healthy and Bleached Corals Image Classification"
   ]
  },
  {
   "cell_type": "markdown",
   "id": "459555bd",
   "metadata": {},
   "source": [
    "## Install dependencies"
   ]
  },
  {
   "cell_type": "code",
   "execution_count": 1,
   "id": "c9a029b8",
   "metadata": {
    "ExecuteTime": {
     "end_time": "2024-10-29T14:07:03.231515Z",
     "start_time": "2024-10-29T14:06:55.249116Z"
    }
   },
   "outputs": [
    {
     "name": "stdout",
     "output_type": "stream",
     "text": [
      "Requirement already satisfied: numpy in ./.venv/lib/python3.12/site-packages (2.1.2)\n",
      "Requirement already satisfied: pillow in ./.venv/lib/python3.12/site-packages (11.0.0)\n",
      "Requirement already satisfied: scikit-learn in ./.venv/lib/python3.12/site-packages (1.5.2)\n",
      "Requirement already satisfied: seaborn in ./.venv/lib/python3.12/site-packages (0.13.2)\n",
      "Requirement already satisfied: scipy>=1.6.0 in ./.venv/lib/python3.12/site-packages (from scikit-learn) (1.14.1)\n",
      "Requirement already satisfied: joblib>=1.2.0 in ./.venv/lib/python3.12/site-packages (from scikit-learn) (1.4.2)\n",
      "Requirement already satisfied: threadpoolctl>=3.1.0 in ./.venv/lib/python3.12/site-packages (from scikit-learn) (3.5.0)\n",
      "Requirement already satisfied: pandas>=1.2 in ./.venv/lib/python3.12/site-packages (from seaborn) (2.2.3)\n",
      "Requirement already satisfied: matplotlib!=3.6.1,>=3.4 in ./.venv/lib/python3.12/site-packages (from seaborn) (3.9.2)\n",
      "Requirement already satisfied: contourpy>=1.0.1 in ./.venv/lib/python3.12/site-packages (from matplotlib!=3.6.1,>=3.4->seaborn) (1.3.0)\n",
      "Requirement already satisfied: cycler>=0.10 in ./.venv/lib/python3.12/site-packages (from matplotlib!=3.6.1,>=3.4->seaborn) (0.12.1)\n",
      "Requirement already satisfied: fonttools>=4.22.0 in ./.venv/lib/python3.12/site-packages (from matplotlib!=3.6.1,>=3.4->seaborn) (4.54.1)\n",
      "Requirement already satisfied: kiwisolver>=1.3.1 in ./.venv/lib/python3.12/site-packages (from matplotlib!=3.6.1,>=3.4->seaborn) (1.4.7)\n",
      "Requirement already satisfied: packaging>=20.0 in ./.venv/lib/python3.12/site-packages (from matplotlib!=3.6.1,>=3.4->seaborn) (24.1)\n",
      "Requirement already satisfied: pyparsing>=2.3.1 in ./.venv/lib/python3.12/site-packages (from matplotlib!=3.6.1,>=3.4->seaborn) (3.2.0)\n",
      "Requirement already satisfied: python-dateutil>=2.7 in ./.venv/lib/python3.12/site-packages (from matplotlib!=3.6.1,>=3.4->seaborn) (2.9.0.post0)\n",
      "Requirement already satisfied: pytz>=2020.1 in ./.venv/lib/python3.12/site-packages (from pandas>=1.2->seaborn) (2024.2)\n",
      "Requirement already satisfied: tzdata>=2022.7 in ./.venv/lib/python3.12/site-packages (from pandas>=1.2->seaborn) (2024.2)\n",
      "Requirement already satisfied: six>=1.5 in ./.venv/lib/python3.12/site-packages (from python-dateutil>=2.7->matplotlib!=3.6.1,>=3.4->seaborn) (1.16.0)\n"
     ]
    }
   ],
   "source": [
    "!pip install numpy pillow scikit-learn seaborn"
   ]
  },
  {
   "cell_type": "markdown",
   "id": "045f6587",
   "metadata": {},
   "source": [
    "## Imports"
   ]
  },
  {
   "cell_type": "code",
   "execution_count": 2,
   "id": "dac568bd",
   "metadata": {
    "ExecuteTime": {
     "end_time": "2024-10-29T14:07:15.378387Z",
     "start_time": "2024-10-29T14:07:14.849351Z"
    }
   },
   "outputs": [],
   "source": [
    "import os\n",
    "import numpy as np\n",
    "from PIL import Image\n",
    "import matplotlib.pyplot as plt\n",
    "from sklearn.model_selection import train_test_split\n",
    "from sklearn.preprocessing import LabelEncoder\n",
    "from sklearn.metrics import accuracy_score, classification_report\n",
    "from sklearn.ensemble import RandomForestClassifier\n",
    "from sklearn.neighbors import KNeighborsClassifier\n",
    "from sklearn.tree import DecisionTreeClassifier\n"
   ]
  },
  {
   "cell_type": "markdown",
   "id": "c983fdb3",
   "metadata": {},
   "source": [
    "## Dataset Overview"
   ]
  },
  {
   "cell_type": "code",
   "execution_count": 5,
   "id": "be02f857",
   "metadata": {
    "ExecuteTime": {
     "end_time": "2024-10-29T14:07:18.214162Z",
     "start_time": "2024-10-29T14:07:17.993050Z"
    }
   },
   "outputs": [
    {
     "name": "stdout",
     "output_type": "stream",
     "text": [
      "Bleached Corals - Total Images: 484\n",
      "Healthy Corals - Total Images: 438\n",
      "Bleached Corals - Average Width: 301.3347107438017, Average Height: 224.98760330578511\n",
      "Bleached Corals - Minimum Width: 199, Maximum Width: 1024\n",
      "Bleached Corals - Minimum Height: 134, Maximum Height: 1024\n",
      "Healthy Corals - Average Width: 288.51826484018267, Average Height: 237.96118721461187\n",
      "Healthy Corals - Minimum Width: 150, Maximum Width: 1024\n",
      "Healthy Corals - Minimum Height: 169, Maximum Height: 768\n"
     ]
    }
   ],
   "source": [
    "bleached_path = \"./data/bleached_corals\"\n",
    "healthy_path = \"./data/healthy_corals\"\n",
    "\n",
    "def get_image_paths(folder_path):\n",
    "    return [os.path.join(folder_path, f) for f in os.listdir(folder_path) if f.endswith('.jpg')]\n",
    "\n",
    "# Get all image paths\n",
    "bleached_image_paths = get_image_paths(bleached_path)\n",
    "print(f\"Bleached Corals - Total Images: {len(bleached_image_paths)}\")\n",
    "healthy_image_paths = get_image_paths(healthy_path)\n",
    "print(f\"Healthy Corals - Total Images: {len(healthy_image_paths)}\")\n",
    "\n",
    "def analyze_images(image_paths):\n",
    "    dimensions = []\n",
    "    for img_path in image_paths:\n",
    "        with Image.open(img_path) as img:\n",
    "            dimensions.append(img.size)  # (width, height)\n",
    "    \n",
    "    dimensions = np.array(dimensions)\n",
    "    \n",
    "    avg_width = np.mean(dimensions[:, 0])\n",
    "    min_width = np.min(dimensions[:, 0])\n",
    "    max_width = np.max(dimensions[:, 0])\n",
    "    avg_height = np.mean(dimensions[:, 1])\n",
    "    min_height = np.min(dimensions[:, 1])\n",
    "    max_height = np.max(dimensions[:, 1])\n",
    "    \n",
    "    return avg_width, min_width, max_width, avg_height, min_height, max_height, dimensions\n",
    "\n",
    "# Analyze bleached coral images\n",
    "bleached_avg_width, bleached_min_width, bleached_max_width, bleached_avg_height, bleached_min_height, bleached_max_height, bleached_dimensions = analyze_images(bleached_image_paths)\n",
    "print(f\"Bleached Corals - Average Width: {bleached_avg_width}, Average Height: {bleached_avg_height}\")\n",
    "print(f\"Bleached Corals - Minimum Width: {bleached_min_width}, Maximum Width: {bleached_max_width}\")\n",
    "print(f\"Bleached Corals - Minimum Height: {bleached_min_height}, Maximum Height: {bleached_max_height}\")\n",
    "\n",
    "# Analyze healthy coral images\n",
    "healthy_avg_width, healthy_min_width, healthy_max_width, healthy_avg_height, healthy_min_height, healthy_max_height, healthy_dimensions = analyze_images(healthy_image_paths)\n",
    "print(f\"Healthy Corals - Average Width: {healthy_avg_width}, Average Height: {healthy_avg_height}\")\n",
    "print(f\"Healthy Corals - Minimum Width: {healthy_min_width}, Maximum Width: {healthy_max_width}\")\n",
    "print(f\"Healthy Corals - Minimum Height: {healthy_min_height}, Maximum Height: {healthy_max_height}\")"
   ]
  },
  {
   "cell_type": "markdown",
   "id": "e0ef6ebe",
   "metadata": {},
   "source": [
    "## Load and Resize Images"
   ]
  },
  {
   "cell_type": "code",
   "execution_count": 6,
   "id": "794f1a3c",
   "metadata": {},
   "outputs": [],
   "source": [
    "def load_and_resize_images(image_paths, size=(64, 64)):\n",
    "    images = []\n",
    "    for img_path in image_paths:\n",
    "        with Image.open(img_path) as img:\n",
    "            img = img.resize(size)\n",
    "            images.append(np.array(img).flatten())  # Flatten the image into a 1D array\n",
    "    return np.array(images)\n",
    "\n",
    "bleached_images = load_and_resize_images(bleached_image_paths)\n",
    "healthy_images = load_and_resize_images(healthy_image_paths)"
   ]
  },
  {
   "cell_type": "markdown",
   "id": "64548ea1",
   "metadata": {},
   "source": [
    "## Labeling the dataset"
   ]
  },
  {
   "cell_type": "code",
   "execution_count": 7,
   "id": "d364fac3",
   "metadata": {},
   "outputs": [],
   "source": [
    "# Create labels for the images\n",
    "bleached_labels = ['bleached'] * len(bleached_images)\n",
    "healthy_labels = ['healthy'] * len(healthy_images)\n",
    "\n",
    "# Combine the data and labels\n",
    "data = np.vstack((bleached_images, healthy_images))\n",
    "labels = np.array(bleached_labels + healthy_labels)\n",
    "\n",
    "# Encode the labels to numerical values\n",
    "label_encoder = LabelEncoder()\n",
    "labels_encoded = label_encoder.fit_transform(labels)"
   ]
  },
  {
   "cell_type": "markdown",
   "id": "2d9b3bd4",
   "metadata": {},
   "source": [
    "## Split in training and testing data"
   ]
  },
  {
   "cell_type": "code",
   "execution_count": 8,
   "id": "107b0f50",
   "metadata": {},
   "outputs": [],
   "source": [
    "X_train, X_test, y_train, y_test = train_test_split(data, labels_encoded, test_size=0.3, random_state=42)"
   ]
  },
  {
   "cell_type": "markdown",
   "id": "80ef7c0f",
   "metadata": {},
   "source": [
    "## Train a classifier"
   ]
  },
  {
   "cell_type": "code",
   "execution_count": 9,
   "id": "5454810e",
   "metadata": {},
   "outputs": [
    {
     "name": "stdout",
     "output_type": "stream",
     "text": [
      "Accuracy: 0.7328519855595668\n",
      "Classification Report:\n",
      "              precision    recall  f1-score   support\n",
      "\n",
      "    bleached       0.72      0.85      0.78       154\n",
      "     healthy       0.76      0.59      0.66       123\n",
      "\n",
      "    accuracy                           0.73       277\n",
      "   macro avg       0.74      0.72      0.72       277\n",
      "weighted avg       0.74      0.73      0.73       277\n",
      "\n"
     ]
    }
   ],
   "source": [
    "\n",
    "# classifier = RandomForestClassifier(n_estimators=100, random_state=42)\n",
    "classifier = KNeighborsClassifier(n_neighbors=5)\n",
    "# classifier = DecisionTreeClassifier(max_depth=20)\n",
    "classifier.fit(X_train, y_train)\n",
    "\n",
    "# Make predictions on the test set\n",
    "y_pred = classifier.predict(X_test)\n",
    "\n",
    "# Evaluate the model\n",
    "accuracy = accuracy_score(y_test, y_pred)\n",
    "print(f\"Accuracy: {accuracy}\")\n",
    "print(\"Classification Report:\")\n",
    "print(classification_report(y_test, y_pred, target_names=label_encoder.classes_))"
   ]
  }
 ],
 "metadata": {
  "kernelspec": {
   "display_name": ".venv",
   "language": "python",
   "name": "python3"
  },
  "language_info": {
   "codemirror_mode": {
    "name": "ipython",
    "version": 3
   },
   "file_extension": ".py",
   "mimetype": "text/x-python",
   "name": "python",
   "nbconvert_exporter": "python",
   "pygments_lexer": "ipython3",
   "version": "3.12.7"
  }
 },
 "nbformat": 4,
 "nbformat_minor": 5
}
