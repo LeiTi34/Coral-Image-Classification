{
 "cells": [
  {
   "cell_type": "markdown",
   "id": "667e1bc11fdade31",
   "metadata": {},
   "source": [
    "# Image Classification using VGG16_BN "
   ]
  },
  {
   "cell_type": "code",
   "execution_count": 4,
   "id": "initial_id",
   "metadata": {
    "ExecuteTime": {
     "end_time": "2024-11-24T15:28:59.886991Z",
     "start_time": "2024-11-24T15:28:57.964190Z"
    },
    "collapsed": true
   },
   "outputs": [
    {
     "name": "stdout",
     "output_type": "stream",
     "text": [
      "Requirement already satisfied: torch in /opt/conda/lib/python3.12/site-packages (2.5.1+cu124)\n",
      "Requirement already satisfied: torchvision in /opt/conda/lib/python3.12/site-packages (0.20.1+cu124)\n",
      "Requirement already satisfied: scikit-learn in /opt/conda/lib/python3.12/site-packages (1.5.2)\n",
      "Requirement already satisfied: cnn_finetune in /opt/conda/lib/python3.12/site-packages (0.6.0)\n",
      "Requirement already satisfied: filelock in /opt/conda/lib/python3.12/site-packages (from torch) (3.13.1)\n",
      "Requirement already satisfied: typing-extensions>=4.8.0 in /opt/conda/lib/python3.12/site-packages (from torch) (4.12.2)\n",
      "Requirement already satisfied: networkx in /opt/conda/lib/python3.12/site-packages (from torch) (3.4.2)\n",
      "Requirement already satisfied: jinja2 in /opt/conda/lib/python3.12/site-packages (from torch) (3.1.4)\n",
      "Requirement already satisfied: fsspec in /opt/conda/lib/python3.12/site-packages (from torch) (2024.10.0)\n",
      "Requirement already satisfied: nvidia-cuda-nvrtc-cu12==12.4.127 in /opt/conda/lib/python3.12/site-packages (from torch) (12.4.127)\n",
      "Requirement already satisfied: nvidia-cuda-runtime-cu12==12.4.127 in /opt/conda/lib/python3.12/site-packages (from torch) (12.4.127)\n",
      "Requirement already satisfied: nvidia-cuda-cupti-cu12==12.4.127 in /opt/conda/lib/python3.12/site-packages (from torch) (12.4.127)\n",
      "Requirement already satisfied: nvidia-cudnn-cu12==9.1.0.70 in /opt/conda/lib/python3.12/site-packages (from torch) (9.1.0.70)\n",
      "Requirement already satisfied: nvidia-cublas-cu12==12.4.5.8 in /opt/conda/lib/python3.12/site-packages (from torch) (12.4.5.8)\n",
      "Requirement already satisfied: nvidia-cufft-cu12==11.2.1.3 in /opt/conda/lib/python3.12/site-packages (from torch) (11.2.1.3)\n",
      "Requirement already satisfied: nvidia-curand-cu12==10.3.5.147 in /opt/conda/lib/python3.12/site-packages (from torch) (10.3.5.147)\n",
      "Requirement already satisfied: nvidia-cusolver-cu12==11.6.1.9 in /opt/conda/lib/python3.12/site-packages (from torch) (11.6.1.9)\n",
      "Requirement already satisfied: nvidia-cusparse-cu12==12.3.1.170 in /opt/conda/lib/python3.12/site-packages (from torch) (12.3.1.170)\n",
      "Requirement already satisfied: nvidia-nccl-cu12==2.21.5 in /opt/conda/lib/python3.12/site-packages (from torch) (2.21.5)\n",
      "Requirement already satisfied: nvidia-nvtx-cu12==12.4.127 in /opt/conda/lib/python3.12/site-packages (from torch) (12.4.127)\n",
      "Requirement already satisfied: nvidia-nvjitlink-cu12==12.4.127 in /opt/conda/lib/python3.12/site-packages (from torch) (12.4.127)\n",
      "Requirement already satisfied: triton==3.1.0 in /opt/conda/lib/python3.12/site-packages (from torch) (3.1.0)\n",
      "Requirement already satisfied: setuptools in /opt/conda/lib/python3.12/site-packages (from torch) (75.5.0)\n",
      "Requirement already satisfied: sympy==1.13.1 in /opt/conda/lib/python3.12/site-packages (from torch) (1.13.1)\n",
      "Requirement already satisfied: mpmath<1.4,>=1.1.0 in /opt/conda/lib/python3.12/site-packages (from sympy==1.13.1->torch) (1.3.0)\n",
      "Requirement already satisfied: numpy in /opt/conda/lib/python3.12/site-packages (from torchvision) (2.0.2)\n",
      "Requirement already satisfied: pillow!=8.3.*,>=5.3.0 in /opt/conda/lib/python3.12/site-packages (from torchvision) (11.0.0)\n",
      "Requirement already satisfied: scipy>=1.6.0 in /opt/conda/lib/python3.12/site-packages (from scikit-learn) (1.14.1)\n",
      "Requirement already satisfied: joblib>=1.2.0 in /opt/conda/lib/python3.12/site-packages (from scikit-learn) (1.4.2)\n",
      "Requirement already satisfied: threadpoolctl>=3.1.0 in /opt/conda/lib/python3.12/site-packages (from scikit-learn) (3.5.0)\n",
      "Requirement already satisfied: pretrainedmodels>=0.7.4 in /opt/conda/lib/python3.12/site-packages (from cnn_finetune) (0.7.4)\n",
      "Requirement already satisfied: tqdm in /opt/conda/lib/python3.12/site-packages (from cnn_finetune) (4.67.0)\n",
      "Requirement already satisfied: munch in /opt/conda/lib/python3.12/site-packages (from pretrainedmodels>=0.7.4->cnn_finetune) (4.0.0)\n",
      "Requirement already satisfied: MarkupSafe>=2.0 in /opt/conda/lib/python3.12/site-packages (from jinja2->torch) (3.0.2)\n"
     ]
    }
   ],
   "source": [
    "# install dependencies and packages\n",
    "\n",
    "!pip install torch torchvision scikit-learn cnn_finetune"
   ]
  },
  {
   "cell_type": "code",
   "execution_count": 5,
   "id": "92dfa503dd2c2bda",
   "metadata": {
    "ExecuteTime": {
     "end_time": "2024-11-24T15:29:10.833669Z",
     "start_time": "2024-11-24T15:29:00.079447Z"
    }
   },
   "outputs": [],
   "source": [
    "import os\n",
    "import torch\n",
    "import torch.nn as nn\n",
    "import torch.optim as optim\n",
    "from torch.utils.data import DataLoader, Dataset\n",
    "\n",
    "# cnn_finetune imports caused problems, using torchvision directly instead\n",
    "from torchvision import transforms, models\n",
    "from sklearn.model_selection import train_test_split\n",
    "from PIL import Image\n",
    "import matplotlib.pyplot as plt"
   ]
  },
  {
   "cell_type": "code",
   "execution_count": 6,
   "id": "c993edb79af1c626",
   "metadata": {
    "ExecuteTime": {
     "end_time": "2024-11-24T15:29:11.404963Z",
     "start_time": "2024-11-24T15:29:11.365528Z"
    }
   },
   "outputs": [
    {
     "name": "stdout",
     "output_type": "stream",
     "text": [
      "Dataset was successfully split into training, validation, and testing sets\n"
     ]
    }
   ],
   "source": [
    "# prepare coral dataset\n",
    "\n",
    "HEALTHY_IMAGES_DIR = \"/data/healthy_corals\"\n",
    "BLEACHED_IMAGES_DIR = \"/data/bleached_corals\"\n",
    "\n",
    "# imagepaths and labels\n",
    "healthy_image_paths = [os.path.join(HEALTHY_IMAGES_DIR, img) for img in os.listdir(HEALTHY_IMAGES_DIR) if os.path.isfile(os.path.join(HEALTHY_IMAGES_DIR, img))]\n",
    "bleached_image_paths = [os.path.join(BLEACHED_IMAGES_DIR, img) for img in os.listdir(BLEACHED_IMAGES_DIR) if os.path.isfile(os.path.join(BLEACHED_IMAGES_DIR, img))]\n",
    "\n",
    "image_paths = healthy_image_paths + bleached_image_paths\n",
    "labels = [0] * len(healthy_image_paths) + [1] * len(bleached_image_paths)\n",
    "\n",
    "# split dataset into training (80%), validation (10%) and testing (10%)\n",
    "train_paths, temp_paths, train_labels, temp_labels = train_test_split(image_paths, labels, test_size=0.2, random_state=42)\n",
    "val_paths, test_paths, val_labels, test_labels = train_test_split(temp_paths, temp_labels, test_size=0.5, random_state=42)\n",
    "\n",
    "print('Dataset was successfully split into training, validation, and testing sets')\n"
   ]
  },
  {
   "cell_type": "code",
   "execution_count": 7,
   "id": "ae15c5118e51aa3f",
   "metadata": {
    "ExecuteTime": {
     "end_time": "2024-11-24T15:29:11.450280Z",
     "start_time": "2024-11-24T15:29:11.446328Z"
    }
   },
   "outputs": [],
   "source": [
    "# define data transformation\n",
    "\n",
    "data_transforms = transforms.Compose([\n",
    "    transforms.Resize((224, 224)),\n",
    "    transforms.ToTensor(),\n",
    "    transforms.Normalize(mean=[0.485, 0.456, 0.406], std=[0.229, 0.224, 0.225])\n",
    "])"
   ]
  },
  {
   "cell_type": "code",
   "execution_count": 8,
   "id": "b0487498b0415522",
   "metadata": {
    "ExecuteTime": {
     "end_time": "2024-11-24T15:29:11.478316Z",
     "start_time": "2024-11-24T15:29:11.474317Z"
    }
   },
   "outputs": [],
   "source": [
    "# create Dataset and DataLoader\n",
    "\n",
    "class SimpleDataset(Dataset):\n",
    "    def __init__(self, image_paths, labels, transform=None):\n",
    "        self.image_paths = image_paths\n",
    "        self.labels = labels\n",
    "        self.transform = transform\n",
    "\n",
    "    def __len__(self):\n",
    "        return len(self.image_paths)\n",
    "\n",
    "    def __getitem__(self, idx):\n",
    "        image = Image.open(self.image_paths[idx]).convert('RGB')\n",
    "        if self.transform:\n",
    "            image = self.transform(image)\n",
    "        label = self.labels[idx]\n",
    "        return image, label"
   ]
  },
  {
   "cell_type": "code",
   "execution_count": 9,
   "id": "abbf027ecba94307",
   "metadata": {
    "ExecuteTime": {
     "end_time": "2024-11-24T15:29:11.496602Z",
     "start_time": "2024-11-24T15:29:11.492498Z"
    }
   },
   "outputs": [],
   "source": [
    "# create Datasets\n",
    "\n",
    "train_dataset = SimpleDataset(train_paths, train_labels, transform=data_transforms)\n",
    "val_dataset = SimpleDataset(val_paths, val_labels, transform=data_transforms)\n",
    "test_dataset = SimpleDataset(test_paths, test_labels, transform=data_transforms)"
   ]
  },
  {
   "cell_type": "code",
   "execution_count": 10,
   "id": "ddab0b8732e849bb",
   "metadata": {
    "ExecuteTime": {
     "end_time": "2024-11-24T15:29:11.509979Z",
     "start_time": "2024-11-24T15:29:11.506155Z"
    }
   },
   "outputs": [],
   "source": [
    "# create Dataloader for each Dataset\n",
    "\n",
    "train_loader = DataLoader(train_dataset, batch_size=16, shuffle=True)\n",
    "val_loader = DataLoader(val_dataset, batch_size=16, shuffle=False)\n",
    "test_loader = DataLoader(test_dataset, batch_size=16, shuffle=False)"
   ]
  },
  {
   "cell_type": "code",
   "execution_count": 11,
   "id": "907134c601ff7254",
   "metadata": {
    "ExecuteTime": {
     "end_time": "2024-11-24T15:29:12.630383Z",
     "start_time": "2024-11-24T15:29:11.520745Z"
    }
   },
   "outputs": [
    {
     "name": "stderr",
     "output_type": "stream",
     "text": [
      "/opt/conda/lib/python3.12/site-packages/torchvision/models/_utils.py:208: UserWarning: The parameter 'pretrained' is deprecated since 0.13 and may be removed in the future, please use 'weights' instead.\n",
      "  warnings.warn(\n",
      "/opt/conda/lib/python3.12/site-packages/torchvision/models/_utils.py:223: UserWarning: Arguments other than a weight enum or `None` for 'weights' are deprecated since 0.13 and may be removed in the future. The current behavior is equivalent to passing `weights=VGG16_BN_Weights.IMAGENET1K_V1`. You can also use `weights=VGG16_BN_Weights.DEFAULT` to get the most up-to-date weights.\n",
      "  warnings.warn(msg)\n",
      "Downloading: \"https://download.pytorch.org/models/vgg16_bn-6c64b313.pth\" to /home/jovyan/.cache/torch/hub/checkpoints/vgg16_bn-6c64b313.pth\n",
      "100%|██████████| 528M/528M [00:05<00:00, 110MB/s]  \n"
     ]
    }
   ],
   "source": [
    "# create model and adapt it to coral Dataset\n",
    "\n",
    "model = models.vgg16_bn(pretrained=True)\n",
    "model.classifier[6] = nn.Linear(model.classifier[6].in_features, 2)"
   ]
  },
  {
   "cell_type": "code",
   "execution_count": 12,
   "id": "21ec5082e45c0f13",
   "metadata": {
    "ExecuteTime": {
     "end_time": "2024-11-24T15:29:12.646468Z",
     "start_time": "2024-11-24T15:29:12.639950Z"
    }
   },
   "outputs": [],
   "source": [
    "device = torch.device(\"cuda\" if torch.cuda.is_available() else \"cpu\")\n",
    "model = model.to(device)"
   ]
  },
  {
   "cell_type": "code",
   "execution_count": 13,
   "id": "651745591bb9908e",
   "metadata": {
    "ExecuteTime": {
     "end_time": "2024-11-24T15:29:12.676154Z",
     "start_time": "2024-11-24T15:29:12.672805Z"
    }
   },
   "outputs": [],
   "source": [
    "# define loss function and optimizer\n",
    "\n",
    "criterion = nn.CrossEntropyLoss()\n",
    "optimizer = optim.Adam(model.parameters(), lr=0.0001)"
   ]
  },
  {
   "cell_type": "code",
   "execution_count": 14,
   "id": "c1d966f20d94676d",
   "metadata": {
    "ExecuteTime": {
     "start_time": "2024-11-24T15:29:12.690211Z"
    },
    "jupyter": {
     "is_executing": true
    }
   },
   "outputs": [
    {
     "name": "stdout",
     "output_type": "stream",
     "text": [
      "Epoch [1/30], Loss: 0.5411\n",
      "Validation Accuracy: 80.43%\n",
      "Epoch [2/30], Loss: 0.2440\n",
      "Validation Accuracy: 78.26%\n",
      "Epoch [3/30], Loss: 0.1224\n",
      "Validation Accuracy: 79.35%\n",
      "Epoch [4/30], Loss: 0.0634\n",
      "Validation Accuracy: 78.26%\n",
      "Epoch [5/30], Loss: 0.0484\n",
      "Validation Accuracy: 77.17%\n",
      "Epoch [6/30], Loss: 0.0486\n",
      "Validation Accuracy: 69.57%\n",
      "Epoch [7/30], Loss: 0.0413\n",
      "Validation Accuracy: 75.00%\n",
      "Epoch [8/30], Loss: 0.0522\n",
      "Validation Accuracy: 76.09%\n",
      "Epoch [9/30], Loss: 0.0329\n",
      "Validation Accuracy: 76.09%\n",
      "Epoch [10/30], Loss: 0.0988\n",
      "Validation Accuracy: 77.17%\n",
      "Epoch [11/30], Loss: 0.1426\n",
      "Validation Accuracy: 73.91%\n",
      "Epoch [12/30], Loss: 0.0345\n",
      "Validation Accuracy: 72.83%\n",
      "Epoch [13/30], Loss: 0.0285\n",
      "Validation Accuracy: 75.00%\n",
      "Epoch [14/30], Loss: 0.0192\n",
      "Validation Accuracy: 78.26%\n",
      "Epoch [15/30], Loss: 0.0137\n",
      "Validation Accuracy: 75.00%\n",
      "Epoch [16/30], Loss: 0.0176\n",
      "Validation Accuracy: 75.00%\n",
      "Epoch [17/30], Loss: 0.0347\n",
      "Validation Accuracy: 72.83%\n",
      "Epoch [18/30], Loss: 0.0349\n",
      "Validation Accuracy: 75.00%\n",
      "Epoch [19/30], Loss: 0.0609\n",
      "Validation Accuracy: 72.83%\n",
      "Epoch [20/30], Loss: 0.0168\n",
      "Validation Accuracy: 76.09%\n",
      "Epoch [21/30], Loss: 0.0201\n",
      "Validation Accuracy: 72.83%\n",
      "Epoch [22/30], Loss: 0.0130\n",
      "Validation Accuracy: 75.00%\n",
      "Epoch [23/30], Loss: 0.0107\n",
      "Validation Accuracy: 75.00%\n",
      "Epoch [24/30], Loss: 0.0101\n",
      "Validation Accuracy: 75.00%\n",
      "Epoch [25/30], Loss: 0.0161\n",
      "Validation Accuracy: 78.26%\n",
      "Epoch [26/30], Loss: 0.0585\n",
      "Validation Accuracy: 75.00%\n",
      "Epoch [27/30], Loss: 0.0574\n",
      "Validation Accuracy: 73.91%\n",
      "Epoch [28/30], Loss: 0.0918\n",
      "Validation Accuracy: 72.83%\n",
      "Epoch [29/30], Loss: 0.0834\n",
      "Validation Accuracy: 75.00%\n",
      "Epoch [30/30], Loss: 0.0524\n",
      "Validation Accuracy: 75.00%\n",
      "Training completed\n"
     ]
    }
   ],
   "source": [
    "# train model\n",
    "\n",
    "num_epochs = 30\n",
    "train_losses = []\n",
    "val_accuracies = []\n",
    "\n",
    "for epoch in range(num_epochs):\n",
    "    model.train()\n",
    "    running_loss = 0.0\n",
    "    \n",
    "    for images, labels in train_loader:\n",
    "        images, labels = images.to(device), labels.to(device)\n",
    "        \n",
    "        optimizer.zero_grad()\n",
    "        \n",
    "        outputs = model(images)\n",
    "        loss = criterion(outputs, labels)\n",
    "        \n",
    "        loss.backward()\n",
    "        optimizer.step()\n",
    "        \n",
    "        running_loss += loss.item()\n",
    "    \n",
    "    # average loss\n",
    "    avg_train_loss = running_loss / len(train_loader)\n",
    "    train_losses.append(avg_train_loss)\n",
    "    print(f'Epoch [{epoch+1}/{num_epochs}], Loss: {avg_train_loss:.4f}')\n",
    "    \n",
    "    # validate\n",
    "    model.eval()\n",
    "    correct = 0\n",
    "    total = 0\n",
    "    with torch.no_grad():\n",
    "        for images, labels in val_loader:\n",
    "            images, labels = images.to(device), labels.to(device)\n",
    "            outputs = model(images)\n",
    "            _, predicted = torch.max(outputs.data, 1)\n",
    "            total += labels.size(0)\n",
    "            correct += (predicted == labels).sum().item()\n",
    "    \n",
    "    val_accuracy = 100 * correct / total\n",
    "    val_accuracies.append(val_accuracy)\n",
    "    print(f'Validation Accuracy: {val_accuracy:.2f}%')\n",
    "\n",
    "print('Training completed')\n"
   ]
  },
  {
   "cell_type": "code",
   "execution_count": 15,
   "id": "897ff42e0da064f1",
   "metadata": {
    "ExecuteTime": {
     "end_time": "2024-11-24T14:25:14.333231Z",
     "start_time": "2024-11-24T14:25:14.110836Z"
    }
   },
   "outputs": [
    {
     "data": {
      "image/png": "[encoded data removed]",
      "text/plain": [
       "<Figure size 1200x500 with 2 Axes>"
      ]
     },
     "metadata": {},
     "output_type": "display_data"
    }
   ],
   "source": [
    "# visualize outcome\n",
    "plt.figure(figsize=(12, 5))\n",
    "\n",
    "# Plot training loss\n",
    "plt.subplot(1, 2, 1)\n",
    "plt.plot(range(1, num_epochs + 1), train_losses, marker='o', color='b')\n",
    "plt.xlabel('Epoch')\n",
    "plt.ylabel('Training Loss')\n",
    "plt.title('Training Loss per Epoch')\n",
    "\n",
    "# plot validation accuracy\n",
    "plt.subplot(1, 2, 2)\n",
    "plt.plot(range(1, num_epochs + 1), val_accuracies, marker='o', color='g')\n",
    "plt.xlabel('Epoch')\n",
    "plt.ylabel('Validation Accuracy (%)')\n",
    "plt.title('Validation Accuracy per Epoch')\n",
    "\n",
    "plt.tight_layout()\n",
    "plt.show()"
   ]
  }
 ],
 "metadata": {
  "kernelspec": {
   "display_name": "Python 3 (ipykernel)",
   "language": "python",
   "name": "python3"
  },
  "language_info": {
   "codemirror_mode": {
    "name": "ipython",
    "version": 3
   },
   "file_extension": ".py",
   "mimetype": "text/x-python",
   "name": "python",
   "nbconvert_exporter": "python",
   "pygments_lexer": "ipython3",
   "version": "3.12.7"
  }
 },
 "nbformat": 4,
 "nbformat_minor": 5
}
